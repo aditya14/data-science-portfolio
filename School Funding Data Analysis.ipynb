{
 "cells": [
  {
   "cell_type": "code",
   "execution_count": 2,
   "metadata": {},
   "outputs": [],
   "source": [
    "import pandas as pd\n",
    "import numpy as np\n",
    "import matplotlib.pyplot as plt"
   ]
  },
  {
   "cell_type": "code",
   "execution_count": 3,
   "metadata": {},
   "outputs": [],
   "source": [
    "# Opening file\n",
    "\n",
    "with open(\"userssharedsdfschoolimprovement2010grants.csv\", \"r\") as f:\n",
    "    data = f.readlines()"
   ]
  },
  {
   "cell_type": "code",
   "execution_count": 4,
   "metadata": {},
   "outputs": [
    {
     "data": {
      "text/plain": [
       "'School Name,City,State,District Name,2010/11/Award Amount,Model Selected,Location\\n'"
      ]
     },
     "execution_count": 4,
     "metadata": {},
     "output_type": "execute_result"
    }
   ],
   "source": [
    "# Defining the columns\n",
    "columns = data[0]\n",
    "columns"
   ]
  },
  {
   "cell_type": "code",
   "execution_count": 5,
   "metadata": {},
   "outputs": [
    {
     "data": {
      "text/plain": [
       "['HOGARTH KINGEEKUK MEMORIAL SCHOOL,SAVOONGA,AK,BERING STRAIT SCHOOL DISTRICT,$471014.00,Transformation,\"200 MAIN ST\\n',\n",
       " 'AKIACHAK SCHOOL,AKIACHAK,AK,YUPIIT SCHOOL DISTRICT,$520579.00,Transformation,\"AKIACHAK 51100\\n',\n",
       " 'GAMBELL SCHOOL,GAMBELL,AK,BERING STRAIT SCHOOL DISTRICT,$449592.00,Transformation,\"169 MAIN ST\\n',\n",
       " 'BURCHELL HIGH SCHOOL,WASILLA,AK,MATANUSKA-SUSITNA BOROUGH SCHOOL DISTRICT,$641184.00,Transformation,\"1775 WEST PARKS HWY\\n',\n",
       " 'AKIAK SCHOOL,AKIAK,AK,YUPIIT SCHOOL DISTRICT,$399686.00,Transformation,\"AKIAK 5227\\n',\n",
       " 'MIDVALLEY HIGH,WASILLA,AK,MATANUSKA-SUSITNA BOROUGH SCHOOL DISTRICT,$697703.00,Restart,\"7362 WEST PARKS HWY 725\\n',\n",
       " 'TULUKSAK SCHOOL,TULUKSAK,AK,YUPIIT SCHOOL DISTRICT,$427658.00,Transformation,\"TULUKSAK 115\\n']"
      ]
     },
     "execution_count": 5,
     "metadata": {},
     "output_type": "execute_result"
    }
   ],
   "source": [
    "# Analyzing\n",
    "data[1:22]\n",
    "\n",
    "data[1:22:3]"
   ]
  },
  {
   "cell_type": "code",
   "execution_count": 6,
   "metadata": {},
   "outputs": [
    {
     "data": {
      "text/plain": [
       "['SAVOONGA, AK 99769\\n',\n",
       " 'AKIACHAK, AK 99551\\n',\n",
       " 'GAMBELL, AK 99742\\n',\n",
       " 'WASILLA, AK 99654\\n',\n",
       " 'AKIAK, AK 99552\\n',\n",
       " 'WASILLA, AK 99654\\n',\n",
       " 'TULUKSAK, AK 99679\\n']"
      ]
     },
     "execution_count": 6,
     "metadata": {},
     "output_type": "execute_result"
    }
   ],
   "source": [
    "data[2:22:3]"
   ]
  },
  {
   "cell_type": "code",
   "execution_count": 7,
   "metadata": {},
   "outputs": [
    {
     "data": {
      "text/plain": [
       "['(63.6687, -170.603)\"\\n',\n",
       " '(60.8911, -161.376)\"\\n',\n",
       " '(63.7413, -171.689)\"\\n',\n",
       " '(61.5794, -149.495)\"\\n',\n",
       " '(60.8879, -161.2)\"\\n',\n",
       " '(61.5023, -149.796)\"\\n',\n",
       " '(61.1001, -160.961)\"\\n']"
      ]
     },
     "execution_count": 7,
     "metadata": {},
     "output_type": "execute_result"
    }
   ],
   "source": [
    "data[3:22:3]"
   ]
  },
  {
   "cell_type": "code",
   "execution_count": 7,
   "metadata": {},
   "outputs": [],
   "source": [
    "# Cleaning up so each record is on 1 line\n",
    "\n",
    "records = []\n",
    "\n",
    "for part_1, part_2, part_3 in zip(data[1::3], data[2::3], data[3::3]):\n",
    "    record = (part_1 + part_2 + part_3).replace(\"\\n\",\"\")\n",
    "    \n",
    "    records.append(record)"
   ]
  },
  {
   "cell_type": "code",
   "execution_count": 8,
   "metadata": {},
   "outputs": [
    {
     "data": {
      "text/plain": [
       "831"
      ]
     },
     "execution_count": 8,
     "metadata": {},
     "output_type": "execute_result"
    }
   ],
   "source": [
    "len(records)"
   ]
  },
  {
   "cell_type": "code",
   "execution_count": 9,
   "metadata": {},
   "outputs": [
    {
     "data": {
      "text/plain": [
       "['HOGARTH KINGEEKUK MEMORIAL SCHOOL,SAVOONGA,AK,BERING STRAIT SCHOOL DISTRICT,$471014.00,Transformation,\"200 MAIN STSAVOONGA, AK 99769(63.6687, -170.603)\"',\n",
       " 'AKIACHAK SCHOOL,AKIACHAK,AK,YUPIIT SCHOOL DISTRICT,$520579.00,Transformation,\"AKIACHAK 51100AKIACHAK, AK 99551(60.8911, -161.376)\"',\n",
       " 'GAMBELL SCHOOL,GAMBELL,AK,BERING STRAIT SCHOOL DISTRICT,$449592.00,Transformation,\"169 MAIN STGAMBELL, AK 99742(63.7413, -171.689)\"',\n",
       " 'BURCHELL HIGH SCHOOL,WASILLA,AK,MATANUSKA-SUSITNA BOROUGH SCHOOL DISTRICT,$641184.00,Transformation,\"1775 WEST PARKS HWYWASILLA, AK 99654(61.5794, -149.495)\"',\n",
       " 'AKIAK SCHOOL,AKIAK,AK,YUPIIT SCHOOL DISTRICT,$399686.00,Transformation,\"AKIAK 5227AKIAK, AK 99552(60.8879, -161.2)\"',\n",
       " 'MIDVALLEY HIGH,WASILLA,AK,MATANUSKA-SUSITNA BOROUGH SCHOOL DISTRICT,$697703.00,Restart,\"7362 WEST PARKS HWY 725WASILLA, AK 99654(61.5023, -149.796)\"',\n",
       " 'TULUKSAK SCHOOL,TULUKSAK,AK,YUPIIT SCHOOL DISTRICT,$427658.00,Transformation,\"TULUKSAK 115TULUKSAK, AK 99679(61.1001, -160.961)\"',\n",
       " 'CAPITOL HEIGHTS JR HIGH SCH,MONTGOMERY,AL,MONTGOMERY COUNTY,$110544.00,Transformation,\"116 FEDERAL DRMONTGOMERY, AL 36107(32.3821, -86.2724)\"',\n",
       " 'LOWNDES CO MIDDLE SCH,FORT DEPOSIT,AL,LOWNDES COUNTY,$12973.00,Transformation,\"510 MONTGOMERY STFORT DEPOSIT, AL 36032(31.9948, -86.5905)\"',\n",
       " 'CENTRAL MIDDLE SCH,ROCKFORD,AL,COOSA COUNTY,$199828.00,Transformation,\"ROUTE 2BOX 65ROCKFORD, AL 35136(32.8928, -86.1552)\"']"
      ]
     },
     "execution_count": 9,
     "metadata": {},
     "output_type": "execute_result"
    }
   ],
   "source": [
    "records[0:10]"
   ]
  },
  {
   "cell_type": "code",
   "execution_count": 12,
   "metadata": {},
   "outputs": [],
   "source": [
    "records = [(x+y+z).replace(\"\\n\",\"\") for x,y,z in zip(data[1::3], data[2::3], data[3::3])]"
   ]
  },
  {
   "cell_type": "code",
   "execution_count": 21,
   "metadata": {},
   "outputs": [
    {
     "data": {
      "text/plain": [
       "{'SCHOOL_NAME': ['SAYRE WILLIAM L MS',\n",
       "  'KING MARTIN LUTHER HS',\n",
       "  'DOUGLAS STEPHEN A SCH',\n",
       "  'LOCKE ALAIN SCH',\n",
       "  'ALCORN JAMES SCH',\n",
       "  'GERMANTOWN HS',\n",
       "  'ROXBOROUGH HS',\n",
       "  'UNIVERSITY CITY HS',\n",
       "  'SMEDLEY FRANKLIN SCH',\n",
       "  'WEST PHILADELPHIA HS',\n",
       "  'HARRITY WILLIAM F SCH',\n",
       "  'FRANKFORD HS',\n",
       "  'VAUX ROBERTS HS',\n",
       "  'CLEMENTE ROBERTO MS',\n",
       "  'FELS SAMUEL HS',\n",
       "  'ALLEN DR ETHEL SCH',\n",
       "  'FELTONVILLE INTERMEDIATE SCHOOL',\n",
       "  'SOUTH PHILADELPHIA HS',\n",
       "  'OLNEY HS WEST',\n",
       "  'EDISON HS/FAREIRA SKILLS',\n",
       "  'STETSON JOHN B MS',\n",
       "  'DAROFF SAMUEL SCH',\n",
       "  'BLUFORD GUION EL SCH',\n",
       "  'CLYMER GEORGE SCH',\n",
       "  'MANN WILLIAM B SCH',\n",
       "  'GRATZ SIMON HS',\n",
       "  'LINCOLN HS'],\n",
       " 'AMOUNT': [737032.0,\n",
       "  786964.0,\n",
       "  319320.0,\n",
       "  390938.0,\n",
       "  338726.0,\n",
       "  798792.0,\n",
       "  641440.0,\n",
       "  923999.0,\n",
       "  362773.0,\n",
       "  671142.0,\n",
       "  980283.0,\n",
       "  792001.0,\n",
       "  466665.0,\n",
       "  333327.0,\n",
       "  974132.0,\n",
       "  247020.0,\n",
       "  244855.0,\n",
       "  579958.0,\n",
       "  272245.0,\n",
       "  1.0,\n",
       "  888708.0,\n",
       "  658247.0,\n",
       "  907129.0,\n",
       "  392068.0,\n",
       "  794021.0,\n",
       "  508486.0,\n",
       "  14.0],\n",
       " 'MODEL': ['Transformation',\n",
       "  'Transformation',\n",
       "  'Restart',\n",
       "  'Transformation',\n",
       "  'Transformation',\n",
       "  'Transformation',\n",
       "  'Transformation',\n",
       "  'Turnaround',\n",
       "  'Restart',\n",
       "  'Transformation',\n",
       "  'Restart',\n",
       "  'Transformation',\n",
       "  'Turnaround',\n",
       "  'Turnaround',\n",
       "  'Transformation',\n",
       "  'Turnaround',\n",
       "  'Transformation',\n",
       "  'Transformation',\n",
       "  'Transformation',\n",
       "  'Transformation',\n",
       "  'Restart',\n",
       "  'Restart',\n",
       "  'Restart',\n",
       "  'Transformation',\n",
       "  'Restart',\n",
       "  'Transformation',\n",
       "  'Transformation']}"
      ]
     },
     "execution_count": 21,
     "metadata": {},
     "output_type": "execute_result"
    }
   ],
   "source": [
    "# Getting records from Philadelphia City SD\n",
    "dataset = {\n",
    "    \"SCHOOL_NAME\": [],\n",
    "    \"AMOUNT\": [],\n",
    "    \"MODEL\": []\n",
    "}\n",
    "\n",
    "for record in records:\n",
    "    if \"PHILADELPHIA CITY SD\" in record:\n",
    "        fields = record.split(\",\")\n",
    "        school_name = fields[0]\n",
    "        amount = float(fields[4][1:])\n",
    "        model = fields[5]\n",
    "        \n",
    "        dataset[\"SCHOOL_NAME\"].append(school_name)\n",
    "        dataset[\"AMOUNT\"].append(amount)\n",
    "        dataset[\"MODEL\"].append(model)\n",
    "        \n",
    "dataset"
   ]
  },
  {
   "cell_type": "code",
   "execution_count": 23,
   "metadata": {},
   "outputs": [
    {
     "data": {
      "text/plain": [
       "15010286.0"
      ]
     },
     "execution_count": 23,
     "metadata": {},
     "output_type": "execute_result"
    }
   ],
   "source": [
    "sum(dataset[\"AMOUNT\"])"
   ]
  },
  {
   "cell_type": "code",
   "execution_count": 23,
   "metadata": {},
   "outputs": [
    {
     "data": {
      "text/plain": [
       "{'SCHOOL_NAME': ['SAYRE WILLIAM L MS',\n",
       "  'KING MARTIN LUTHER HS',\n",
       "  'DOUGLAS STEPHEN A SCH',\n",
       "  'LOCKE ALAIN SCH',\n",
       "  'ALCORN JAMES SCH',\n",
       "  'GERMANTOWN HS',\n",
       "  'ROXBOROUGH HS',\n",
       "  'UNIVERSITY CITY HS',\n",
       "  'SMEDLEY FRANKLIN SCH',\n",
       "  'WEST PHILADELPHIA HS',\n",
       "  'HARRITY WILLIAM F SCH',\n",
       "  'FRANKFORD HS',\n",
       "  'VAUX ROBERTS HS',\n",
       "  'CLEMENTE ROBERTO MS',\n",
       "  'FELS SAMUEL HS',\n",
       "  'ALLEN DR ETHEL SCH',\n",
       "  'FELTONVILLE INTERMEDIATE SCHOOL',\n",
       "  'SOUTH PHILADELPHIA HS',\n",
       "  'OLNEY HS WEST',\n",
       "  'EDISON HS/FAREIRA SKILLS',\n",
       "  'STETSON JOHN B MS',\n",
       "  'DAROFF SAMUEL SCH',\n",
       "  'BLUFORD GUION EL SCH',\n",
       "  'CLYMER GEORGE SCH',\n",
       "  'MANN WILLIAM B SCH',\n",
       "  'GRATZ SIMON HS',\n",
       "  'LINCOLN HS'],\n",
       " 'AMOUNT': [737032.0,\n",
       "  786964.0,\n",
       "  319320.0,\n",
       "  390938.0,\n",
       "  338726.0,\n",
       "  798792.0,\n",
       "  641440.0,\n",
       "  923999.0,\n",
       "  362773.0,\n",
       "  671142.0,\n",
       "  980283.0,\n",
       "  792001.0,\n",
       "  466665.0,\n",
       "  333327.0,\n",
       "  974132.0,\n",
       "  247020.0,\n",
       "  244855.0,\n",
       "  579958.0,\n",
       "  272245.0,\n",
       "  1.0,\n",
       "  888708.0,\n",
       "  658247.0,\n",
       "  907129.0,\n",
       "  392068.0,\n",
       "  794021.0,\n",
       "  508486.0,\n",
       "  14.0],\n",
       " 'MODEL': ['Transformation',\n",
       "  'Transformation',\n",
       "  'Restart',\n",
       "  'Transformation',\n",
       "  'Transformation',\n",
       "  'Transformation',\n",
       "  'Transformation',\n",
       "  'Turnaround',\n",
       "  'Restart',\n",
       "  'Transformation',\n",
       "  'Restart',\n",
       "  'Transformation',\n",
       "  'Turnaround',\n",
       "  'Turnaround',\n",
       "  'Transformation',\n",
       "  'Turnaround',\n",
       "  'Transformation',\n",
       "  'Transformation',\n",
       "  'Transformation',\n",
       "  'Transformation',\n",
       "  'Restart',\n",
       "  'Restart',\n",
       "  'Restart',\n",
       "  'Transformation',\n",
       "  'Restart',\n",
       "  'Transformation',\n",
       "  'Transformation']}"
      ]
     },
     "execution_count": 23,
     "metadata": {},
     "output_type": "execute_result"
    }
   ],
   "source": [
    "dataset"
   ]
  },
  {
   "cell_type": "code",
   "execution_count": 25,
   "metadata": {},
   "outputs": [
    {
     "name": "stdout",
     "output_type": "stream",
     "text": [
      "282765.19336621836\n"
     ]
    }
   ],
   "source": [
    "mean = sum(dataset[\"AMOUNT\"])/len(dataset[\"AMOUNT\"])\n",
    "squared_diff = []\n",
    "for i in dataset[\"AMOUNT\"]:\n",
    "    new_val = (i - mean)**2\n",
    "    squared_diff.append(new_val)\n",
    "\n",
    "stdev = (sum(squared_diff)/len(squared_diff))**0.5\n",
    "print(stdev)"
   ]
  },
  {
   "cell_type": "code",
   "execution_count": 29,
   "metadata": {},
   "outputs": [
    {
     "name": "stdout",
     "output_type": "stream",
     "text": [
      "Number of Schools:  27\n",
      "Mean Funding Amount:  555936.5185185185\n",
      "Standard Deviation of Funding Amount:  282765.19336621836\n",
      "Minimum Funding Amount:  1.0\n",
      "Maximum Funding Amount:  980283.0\n"
     ]
    }
   ],
   "source": [
    "# Analysis Summary\n",
    "\n",
    "print(\"Number of Schools: \", len(dataset[\"SCHOOL_NAME\"]))\n",
    "print(\"Mean Funding Amount: \", sum(dataset[\"AMOUNT\"])/len(dataset[\"SCHOOL_NAME\"]))\n",
    "print(\"Standard Deviation of Funding Amount: \", stdev)\n",
    "print(\"Minimum Funding Amount: \", min(dataset[\"AMOUNT\"]))\n",
    "print(\"Maximum Funding Amount: \", max(dataset[\"AMOUNT\"]))"
   ]
  },
  {
   "cell_type": "code",
   "execution_count": 32,
   "metadata": {},
   "outputs": [
    {
     "data": {
      "text/html": [
       "<div>\n",
       "<style scoped>\n",
       "    .dataframe tbody tr th:only-of-type {\n",
       "        vertical-align: middle;\n",
       "    }\n",
       "\n",
       "    .dataframe tbody tr th {\n",
       "        vertical-align: top;\n",
       "    }\n",
       "\n",
       "    .dataframe thead th {\n",
       "        text-align: right;\n",
       "    }\n",
       "</style>\n",
       "<table border=\"1\" class=\"dataframe\">\n",
       "  <thead>\n",
       "    <tr style=\"text-align: right;\">\n",
       "      <th></th>\n",
       "      <th>School Name</th>\n",
       "      <th>City</th>\n",
       "      <th>State</th>\n",
       "      <th>District Name</th>\n",
       "      <th>2010/11/Award Amount</th>\n",
       "      <th>Model Selected</th>\n",
       "      <th>Location</th>\n",
       "    </tr>\n",
       "  </thead>\n",
       "  <tbody>\n",
       "    <tr>\n",
       "      <th>0</th>\n",
       "      <td>HOGARTH KINGEEKUK MEMORIAL SCHOOL</td>\n",
       "      <td>SAVOONGA</td>\n",
       "      <td>AK</td>\n",
       "      <td>BERING STRAIT SCHOOL DISTRICT</td>\n",
       "      <td>$471014.00</td>\n",
       "      <td>Transformation</td>\n",
       "      <td>200 MAIN ST\\nSAVOONGA, AK 99769\\n(63.6687, -17...</td>\n",
       "    </tr>\n",
       "    <tr>\n",
       "      <th>1</th>\n",
       "      <td>AKIACHAK SCHOOL</td>\n",
       "      <td>AKIACHAK</td>\n",
       "      <td>AK</td>\n",
       "      <td>YUPIIT SCHOOL DISTRICT</td>\n",
       "      <td>$520579.00</td>\n",
       "      <td>Transformation</td>\n",
       "      <td>AKIACHAK 51100\\nAKIACHAK, AK 99551\\n(60.8911, ...</td>\n",
       "    </tr>\n",
       "    <tr>\n",
       "      <th>2</th>\n",
       "      <td>GAMBELL SCHOOL</td>\n",
       "      <td>GAMBELL</td>\n",
       "      <td>AK</td>\n",
       "      <td>BERING STRAIT SCHOOL DISTRICT</td>\n",
       "      <td>$449592.00</td>\n",
       "      <td>Transformation</td>\n",
       "      <td>169 MAIN ST\\nGAMBELL, AK 99742\\n(63.7413, -171...</td>\n",
       "    </tr>\n",
       "    <tr>\n",
       "      <th>3</th>\n",
       "      <td>BURCHELL HIGH SCHOOL</td>\n",
       "      <td>WASILLA</td>\n",
       "      <td>AK</td>\n",
       "      <td>MATANUSKA-SUSITNA BOROUGH SCHOOL DISTRICT</td>\n",
       "      <td>$641184.00</td>\n",
       "      <td>Transformation</td>\n",
       "      <td>1775 WEST PARKS HWY\\nWASILLA, AK 99654\\n(61.57...</td>\n",
       "    </tr>\n",
       "    <tr>\n",
       "      <th>4</th>\n",
       "      <td>AKIAK SCHOOL</td>\n",
       "      <td>AKIAK</td>\n",
       "      <td>AK</td>\n",
       "      <td>YUPIIT SCHOOL DISTRICT</td>\n",
       "      <td>$399686.00</td>\n",
       "      <td>Transformation</td>\n",
       "      <td>AKIAK 5227\\nAKIAK, AK 99552\\n(60.8879, -161.2)</td>\n",
       "    </tr>\n",
       "  </tbody>\n",
       "</table>\n",
       "</div>"
      ],
      "text/plain": [
       "                         School Name      City State  \\\n",
       "0  HOGARTH KINGEEKUK MEMORIAL SCHOOL  SAVOONGA    AK   \n",
       "1                    AKIACHAK SCHOOL  AKIACHAK    AK   \n",
       "2                     GAMBELL SCHOOL   GAMBELL    AK   \n",
       "3               BURCHELL HIGH SCHOOL   WASILLA    AK   \n",
       "4                       AKIAK SCHOOL     AKIAK    AK   \n",
       "\n",
       "                               District Name 2010/11/Award Amount  \\\n",
       "0              BERING STRAIT SCHOOL DISTRICT           $471014.00   \n",
       "1                     YUPIIT SCHOOL DISTRICT           $520579.00   \n",
       "2              BERING STRAIT SCHOOL DISTRICT           $449592.00   \n",
       "3  MATANUSKA-SUSITNA BOROUGH SCHOOL DISTRICT           $641184.00   \n",
       "4                     YUPIIT SCHOOL DISTRICT           $399686.00   \n",
       "\n",
       "   Model Selected                                           Location  \n",
       "0  Transformation  200 MAIN ST\\nSAVOONGA, AK 99769\\n(63.6687, -17...  \n",
       "1  Transformation  AKIACHAK 51100\\nAKIACHAK, AK 99551\\n(60.8911, ...  \n",
       "2  Transformation  169 MAIN ST\\nGAMBELL, AK 99742\\n(63.7413, -171...  \n",
       "3  Transformation  1775 WEST PARKS HWY\\nWASILLA, AK 99654\\n(61.57...  \n",
       "4  Transformation     AKIAK 5227\\nAKIAK, AK 99552\\n(60.8879, -161.2)  "
      ]
     },
     "execution_count": 32,
     "metadata": {},
     "output_type": "execute_result"
    }
   ],
   "source": [
    "# Using Pandas\n",
    "\n",
    "file = pd.read_csv(\"userssharedsdfschoolimprovement2010grants.csv\")\n",
    "file.head()"
   ]
  },
  {
   "cell_type": "code",
   "execution_count": 33,
   "metadata": {},
   "outputs": [
    {
     "name": "stdout",
     "output_type": "stream",
     "text": [
      "<class 'pandas.core.frame.DataFrame'>\n",
      "RangeIndex: 831 entries, 0 to 830\n",
      "Data columns (total 7 columns):\n",
      "School Name             831 non-null object\n",
      "City                    831 non-null object\n",
      "State                   831 non-null object\n",
      "District Name           831 non-null object\n",
      "2010/11/Award Amount    757 non-null object\n",
      "Model Selected          825 non-null object\n",
      "Location                831 non-null object\n",
      "dtypes: object(7)\n",
      "memory usage: 45.5+ KB\n"
     ]
    }
   ],
   "source": [
    "# Data types of dimensions\n",
    "\n",
    "file.info()"
   ]
  },
  {
   "cell_type": "code",
   "execution_count": 34,
   "metadata": {},
   "outputs": [
    {
     "data": {
      "text/plain": [
       "Transformation    608\n",
       "Turnaround        168\n",
       "Restart            33\n",
       "Closure            16\n",
       "Name: Model Selected, dtype: int64"
      ]
     },
     "execution_count": 34,
     "metadata": {},
     "output_type": "execute_result"
    }
   ],
   "source": [
    "file[\"Model Selected\"].value_counts()"
   ]
  },
  {
   "cell_type": "code",
   "execution_count": 35,
   "metadata": {},
   "outputs": [
    {
     "data": {
      "text/plain": [
       "count     831\n",
       "unique     50\n",
       "top        CA\n",
       "freq       92\n",
       "Name: State, dtype: object"
      ]
     },
     "execution_count": 35,
     "metadata": {},
     "output_type": "execute_result"
    }
   ],
   "source": [
    "file.State.describe()"
   ]
  },
  {
   "cell_type": "code",
   "execution_count": 36,
   "metadata": {},
   "outputs": [
    {
     "data": {
      "text/html": [
       "<div>\n",
       "<style scoped>\n",
       "    .dataframe tbody tr th:only-of-type {\n",
       "        vertical-align: middle;\n",
       "    }\n",
       "\n",
       "    .dataframe tbody tr th {\n",
       "        vertical-align: top;\n",
       "    }\n",
       "\n",
       "    .dataframe thead th {\n",
       "        text-align: right;\n",
       "    }\n",
       "</style>\n",
       "<table border=\"1\" class=\"dataframe\">\n",
       "  <thead>\n",
       "    <tr style=\"text-align: right;\">\n",
       "      <th>Model Selected</th>\n",
       "      <th>Closure</th>\n",
       "      <th>Restart</th>\n",
       "      <th>Transformation</th>\n",
       "      <th>Turnaround</th>\n",
       "    </tr>\n",
       "    <tr>\n",
       "      <th>State</th>\n",
       "      <th></th>\n",
       "      <th></th>\n",
       "      <th></th>\n",
       "      <th></th>\n",
       "    </tr>\n",
       "  </thead>\n",
       "  <tbody>\n",
       "    <tr>\n",
       "      <th>AK</th>\n",
       "      <td>0</td>\n",
       "      <td>1</td>\n",
       "      <td>6</td>\n",
       "      <td>0</td>\n",
       "    </tr>\n",
       "    <tr>\n",
       "      <th>AL</th>\n",
       "      <td>0</td>\n",
       "      <td>0</td>\n",
       "      <td>11</td>\n",
       "      <td>0</td>\n",
       "    </tr>\n",
       "    <tr>\n",
       "      <th>AR</th>\n",
       "      <td>0</td>\n",
       "      <td>0</td>\n",
       "      <td>7</td>\n",
       "      <td>0</td>\n",
       "    </tr>\n",
       "    <tr>\n",
       "      <th>AZ</th>\n",
       "      <td>0</td>\n",
       "      <td>0</td>\n",
       "      <td>12</td>\n",
       "      <td>7</td>\n",
       "    </tr>\n",
       "    <tr>\n",
       "      <th>CA</th>\n",
       "      <td>2</td>\n",
       "      <td>5</td>\n",
       "      <td>56</td>\n",
       "      <td>29</td>\n",
       "    </tr>\n",
       "    <tr>\n",
       "      <th>CO</th>\n",
       "      <td>3</td>\n",
       "      <td>1</td>\n",
       "      <td>9</td>\n",
       "      <td>6</td>\n",
       "    </tr>\n",
       "    <tr>\n",
       "      <th>CT</th>\n",
       "      <td>0</td>\n",
       "      <td>1</td>\n",
       "      <td>7</td>\n",
       "      <td>6</td>\n",
       "    </tr>\n",
       "    <tr>\n",
       "      <th>DC</th>\n",
       "      <td>0</td>\n",
       "      <td>3</td>\n",
       "      <td>3</td>\n",
       "      <td>4</td>\n",
       "    </tr>\n",
       "    <tr>\n",
       "      <th>DE</th>\n",
       "      <td>0</td>\n",
       "      <td>0</td>\n",
       "      <td>2</td>\n",
       "      <td>0</td>\n",
       "    </tr>\n",
       "    <tr>\n",
       "      <th>FL</th>\n",
       "      <td>0</td>\n",
       "      <td>0</td>\n",
       "      <td>54</td>\n",
       "      <td>17</td>\n",
       "    </tr>\n",
       "    <tr>\n",
       "      <th>GA</th>\n",
       "      <td>0</td>\n",
       "      <td>0</td>\n",
       "      <td>24</td>\n",
       "      <td>2</td>\n",
       "    </tr>\n",
       "    <tr>\n",
       "      <th>IA</th>\n",
       "      <td>0</td>\n",
       "      <td>0</td>\n",
       "      <td>6</td>\n",
       "      <td>0</td>\n",
       "    </tr>\n",
       "    <tr>\n",
       "      <th>ID</th>\n",
       "      <td>0</td>\n",
       "      <td>0</td>\n",
       "      <td>6</td>\n",
       "      <td>0</td>\n",
       "    </tr>\n",
       "    <tr>\n",
       "      <th>IL</th>\n",
       "      <td>0</td>\n",
       "      <td>1</td>\n",
       "      <td>5</td>\n",
       "      <td>4</td>\n",
       "    </tr>\n",
       "    <tr>\n",
       "      <th>IN</th>\n",
       "      <td>0</td>\n",
       "      <td>0</td>\n",
       "      <td>4</td>\n",
       "      <td>3</td>\n",
       "    </tr>\n",
       "    <tr>\n",
       "      <th>KS</th>\n",
       "      <td>0</td>\n",
       "      <td>0</td>\n",
       "      <td>5</td>\n",
       "      <td>1</td>\n",
       "    </tr>\n",
       "    <tr>\n",
       "      <th>KY</th>\n",
       "      <td>0</td>\n",
       "      <td>0</td>\n",
       "      <td>4</td>\n",
       "      <td>6</td>\n",
       "    </tr>\n",
       "    <tr>\n",
       "      <th>LA</th>\n",
       "      <td>0</td>\n",
       "      <td>0</td>\n",
       "      <td>2</td>\n",
       "      <td>0</td>\n",
       "    </tr>\n",
       "    <tr>\n",
       "      <th>MA</th>\n",
       "      <td>0</td>\n",
       "      <td>0</td>\n",
       "      <td>7</td>\n",
       "      <td>5</td>\n",
       "    </tr>\n",
       "    <tr>\n",
       "      <th>MD</th>\n",
       "      <td>0</td>\n",
       "      <td>5</td>\n",
       "      <td>0</td>\n",
       "      <td>6</td>\n",
       "    </tr>\n",
       "    <tr>\n",
       "      <th>ME</th>\n",
       "      <td>0</td>\n",
       "      <td>0</td>\n",
       "      <td>5</td>\n",
       "      <td>1</td>\n",
       "    </tr>\n",
       "    <tr>\n",
       "      <th>MI</th>\n",
       "      <td>0</td>\n",
       "      <td>0</td>\n",
       "      <td>19</td>\n",
       "      <td>9</td>\n",
       "    </tr>\n",
       "    <tr>\n",
       "      <th>MN</th>\n",
       "      <td>0</td>\n",
       "      <td>0</td>\n",
       "      <td>16</td>\n",
       "      <td>3</td>\n",
       "    </tr>\n",
       "    <tr>\n",
       "      <th>MO</th>\n",
       "      <td>1</td>\n",
       "      <td>0</td>\n",
       "      <td>17</td>\n",
       "      <td>14</td>\n",
       "    </tr>\n",
       "    <tr>\n",
       "      <th>MS</th>\n",
       "      <td>0</td>\n",
       "      <td>0</td>\n",
       "      <td>8</td>\n",
       "      <td>0</td>\n",
       "    </tr>\n",
       "    <tr>\n",
       "      <th>MT</th>\n",
       "      <td>0</td>\n",
       "      <td>0</td>\n",
       "      <td>6</td>\n",
       "      <td>0</td>\n",
       "    </tr>\n",
       "    <tr>\n",
       "      <th>NC</th>\n",
       "      <td>0</td>\n",
       "      <td>1</td>\n",
       "      <td>17</td>\n",
       "      <td>6</td>\n",
       "    </tr>\n",
       "    <tr>\n",
       "      <th>ND</th>\n",
       "      <td>0</td>\n",
       "      <td>0</td>\n",
       "      <td>1</td>\n",
       "      <td>0</td>\n",
       "    </tr>\n",
       "    <tr>\n",
       "      <th>NE</th>\n",
       "      <td>0</td>\n",
       "      <td>0</td>\n",
       "      <td>7</td>\n",
       "      <td>0</td>\n",
       "    </tr>\n",
       "    <tr>\n",
       "      <th>NH</th>\n",
       "      <td>0</td>\n",
       "      <td>0</td>\n",
       "      <td>7</td>\n",
       "      <td>0</td>\n",
       "    </tr>\n",
       "    <tr>\n",
       "      <th>NJ</th>\n",
       "      <td>0</td>\n",
       "      <td>1</td>\n",
       "      <td>8</td>\n",
       "      <td>3</td>\n",
       "    </tr>\n",
       "    <tr>\n",
       "      <th>NM</th>\n",
       "      <td>0</td>\n",
       "      <td>0</td>\n",
       "      <td>12</td>\n",
       "      <td>1</td>\n",
       "    </tr>\n",
       "    <tr>\n",
       "      <th>NV</th>\n",
       "      <td>0</td>\n",
       "      <td>0</td>\n",
       "      <td>7</td>\n",
       "      <td>3</td>\n",
       "    </tr>\n",
       "    <tr>\n",
       "      <th>NY</th>\n",
       "      <td>0</td>\n",
       "      <td>0</td>\n",
       "      <td>20</td>\n",
       "      <td>5</td>\n",
       "    </tr>\n",
       "    <tr>\n",
       "      <th>OH</th>\n",
       "      <td>0</td>\n",
       "      <td>0</td>\n",
       "      <td>27</td>\n",
       "      <td>8</td>\n",
       "    </tr>\n",
       "    <tr>\n",
       "      <th>OK</th>\n",
       "      <td>0</td>\n",
       "      <td>0</td>\n",
       "      <td>9</td>\n",
       "      <td>1</td>\n",
       "    </tr>\n",
       "    <tr>\n",
       "      <th>OR</th>\n",
       "      <td>0</td>\n",
       "      <td>0</td>\n",
       "      <td>12</td>\n",
       "      <td>0</td>\n",
       "    </tr>\n",
       "    <tr>\n",
       "      <th>PA</th>\n",
       "      <td>2</td>\n",
       "      <td>7</td>\n",
       "      <td>43</td>\n",
       "      <td>6</td>\n",
       "    </tr>\n",
       "    <tr>\n",
       "      <th>SC</th>\n",
       "      <td>1</td>\n",
       "      <td>0</td>\n",
       "      <td>18</td>\n",
       "      <td>0</td>\n",
       "    </tr>\n",
       "    <tr>\n",
       "      <th>SD</th>\n",
       "      <td>0</td>\n",
       "      <td>0</td>\n",
       "      <td>2</td>\n",
       "      <td>1</td>\n",
       "    </tr>\n",
       "    <tr>\n",
       "      <th>TN</th>\n",
       "      <td>0</td>\n",
       "      <td>0</td>\n",
       "      <td>6</td>\n",
       "      <td>6</td>\n",
       "    </tr>\n",
       "    <tr>\n",
       "      <th>TX</th>\n",
       "      <td>0</td>\n",
       "      <td>0</td>\n",
       "      <td>46</td>\n",
       "      <td>2</td>\n",
       "    </tr>\n",
       "    <tr>\n",
       "      <th>UT</th>\n",
       "      <td>0</td>\n",
       "      <td>0</td>\n",
       "      <td>7</td>\n",
       "      <td>0</td>\n",
       "    </tr>\n",
       "    <tr>\n",
       "      <th>VA</th>\n",
       "      <td>2</td>\n",
       "      <td>5</td>\n",
       "      <td>11</td>\n",
       "      <td>0</td>\n",
       "    </tr>\n",
       "    <tr>\n",
       "      <th>VT</th>\n",
       "      <td>0</td>\n",
       "      <td>0</td>\n",
       "      <td>10</td>\n",
       "      <td>0</td>\n",
       "    </tr>\n",
       "    <tr>\n",
       "      <th>WA</th>\n",
       "      <td>1</td>\n",
       "      <td>0</td>\n",
       "      <td>14</td>\n",
       "      <td>3</td>\n",
       "    </tr>\n",
       "    <tr>\n",
       "      <th>WI</th>\n",
       "      <td>4</td>\n",
       "      <td>2</td>\n",
       "      <td>5</td>\n",
       "      <td>0</td>\n",
       "    </tr>\n",
       "    <tr>\n",
       "      <th>WV</th>\n",
       "      <td>0</td>\n",
       "      <td>0</td>\n",
       "      <td>15</td>\n",
       "      <td>0</td>\n",
       "    </tr>\n",
       "    <tr>\n",
       "      <th>WY</th>\n",
       "      <td>0</td>\n",
       "      <td>0</td>\n",
       "      <td>3</td>\n",
       "      <td>0</td>\n",
       "    </tr>\n",
       "  </tbody>\n",
       "</table>\n",
       "</div>"
      ],
      "text/plain": [
       "Model Selected  Closure  Restart  Transformation  Turnaround\n",
       "State                                                       \n",
       "AK                    0        1               6           0\n",
       "AL                    0        0              11           0\n",
       "AR                    0        0               7           0\n",
       "AZ                    0        0              12           7\n",
       "CA                    2        5              56          29\n",
       "CO                    3        1               9           6\n",
       "CT                    0        1               7           6\n",
       "DC                    0        3               3           4\n",
       "DE                    0        0               2           0\n",
       "FL                    0        0              54          17\n",
       "GA                    0        0              24           2\n",
       "IA                    0        0               6           0\n",
       "ID                    0        0               6           0\n",
       "IL                    0        1               5           4\n",
       "IN                    0        0               4           3\n",
       "KS                    0        0               5           1\n",
       "KY                    0        0               4           6\n",
       "LA                    0        0               2           0\n",
       "MA                    0        0               7           5\n",
       "MD                    0        5               0           6\n",
       "ME                    0        0               5           1\n",
       "MI                    0        0              19           9\n",
       "MN                    0        0              16           3\n",
       "MO                    1        0              17          14\n",
       "MS                    0        0               8           0\n",
       "MT                    0        0               6           0\n",
       "NC                    0        1              17           6\n",
       "ND                    0        0               1           0\n",
       "NE                    0        0               7           0\n",
       "NH                    0        0               7           0\n",
       "NJ                    0        1               8           3\n",
       "NM                    0        0              12           1\n",
       "NV                    0        0               7           3\n",
       "NY                    0        0              20           5\n",
       "OH                    0        0              27           8\n",
       "OK                    0        0               9           1\n",
       "OR                    0        0              12           0\n",
       "PA                    2        7              43           6\n",
       "SC                    1        0              18           0\n",
       "SD                    0        0               2           1\n",
       "TN                    0        0               6           6\n",
       "TX                    0        0              46           2\n",
       "UT                    0        0               7           0\n",
       "VA                    2        5              11           0\n",
       "VT                    0        0              10           0\n",
       "WA                    1        0              14           3\n",
       "WI                    4        2               5           0\n",
       "WV                    0        0              15           0\n",
       "WY                    0        0               3           0"
      ]
     },
     "execution_count": 36,
     "metadata": {},
     "output_type": "execute_result"
    }
   ],
   "source": [
    "# Looking at funding type breakdown by state\n",
    "pd.crosstab(file.State, file[\"Model Selected\"])"
   ]
  },
  {
   "cell_type": "code",
   "execution_count": 37,
   "metadata": {},
   "outputs": [],
   "source": [
    "#Renaming Columns for simplicity\n",
    "file = file.rename(columns={'2010/11/Award Amount':'Amount'})\n",
    "\n",
    "# Reformatting amount values\n",
    "file.Amount = file.Amount.str.replace('$','')\n",
    "\n",
    "# Converting Amount to an integer\n",
    "file['Amount'] = file.Amount.astype(float)"
   ]
  },
  {
   "cell_type": "code",
   "execution_count": 38,
   "metadata": {},
   "outputs": [
    {
     "data": {
      "text/plain": [
       "School Name        object\n",
       "City               object\n",
       "State              object\n",
       "District Name      object\n",
       "Amount            float64\n",
       "Model Selected     object\n",
       "Location           object\n",
       "dtype: object"
      ]
     },
     "execution_count": 38,
     "metadata": {},
     "output_type": "execute_result"
    }
   ],
   "source": [
    "file.dtypes"
   ]
  },
  {
   "cell_type": "code",
   "execution_count": 42,
   "metadata": {},
   "outputs": [
    {
     "data": {
      "text/plain": [
       "count        27.000000\n",
       "mean     555936.518519\n",
       "std      288151.681054\n",
       "min           1.000000\n",
       "25%      336026.500000\n",
       "50%      579958.000000\n",
       "75%      793011.000000\n",
       "max      980283.000000\n",
       "Name: Amount, dtype: float64"
      ]
     },
     "execution_count": 42,
     "metadata": {},
     "output_type": "execute_result"
    }
   ],
   "source": [
    "# ETL\n",
    "\n",
    "philly_district = file.loc[file['District Name'] == 'PHILADELPHIA CITY SD']\n",
    "\n",
    "# Getting Philadelphia City SD Funding Details again\n",
    "philly_district['Amount'].describe()"
   ]
  },
  {
   "cell_type": "code",
   "execution_count": 43,
   "metadata": {},
   "outputs": [
    {
     "data": {
      "text/plain": [
       "Transformation    608\n",
       "Turnaround        168\n",
       "Restart            33\n",
       "Closure            16\n",
       "Name: Model Selected, dtype: int64"
      ]
     },
     "execution_count": 43,
     "metadata": {},
     "output_type": "execute_result"
    }
   ],
   "source": [
    "transformation = file.loc[file['Model Selected'] == 'Transformation']\n",
    "restart = file.loc[file['Model Selected'] == 'Restart']\n",
    "turnaround = file.loc[file['Model Selected'] == 'Turnaround']\n",
    "closure = file.loc[file['Model Selected'] == 'Closure']\n",
    "file[\"Model Selected\"].value_counts()"
   ]
  },
  {
   "cell_type": "code",
   "execution_count": 44,
   "metadata": {},
   "outputs": [
    {
     "name": "stdout",
     "output_type": "stream",
     "text": [
      "608\n",
      "168\n",
      "33\n",
      "16\n"
     ]
    }
   ],
   "source": [
    "# Checking for accuracy\n",
    "print(len(transformation))\n",
    "print(len(turnaround))\n",
    "print(len(restart))\n",
    "print(len(closure))"
   ]
  },
  {
   "cell_type": "code",
   "execution_count": 45,
   "metadata": {},
   "outputs": [
    {
     "data": {
      "text/plain": [
       "count       543.000000\n",
       "mean     434116.062615\n",
       "std      287908.462288\n",
       "min           1.000000\n",
       "25%      166273.000000\n",
       "50%      441740.000000\n",
       "75%      687320.500000\n",
       "max      997852.000000\n",
       "Name: Amount, dtype: float64"
      ]
     },
     "execution_count": 45,
     "metadata": {},
     "output_type": "execute_result"
    }
   ],
   "source": [
    "# Funding stats for each model\n",
    "transformation['Amount'].describe()"
   ]
  },
  {
   "cell_type": "code",
   "execution_count": 46,
   "metadata": {},
   "outputs": [
    {
     "data": {
      "text/plain": [
       "count       543.000000\n",
       "mean     434116.062615\n",
       "std      287908.462288\n",
       "min           1.000000\n",
       "25%      166273.000000\n",
       "50%      441740.000000\n",
       "75%      687320.500000\n",
       "max      997852.000000\n",
       "Name: Amount, dtype: float64"
      ]
     },
     "execution_count": 46,
     "metadata": {},
     "output_type": "execute_result"
    }
   ],
   "source": [
    "transformation['Amount'].describe()"
   ]
  },
  {
   "cell_type": "code",
   "execution_count": 47,
   "metadata": {},
   "outputs": [
    {
     "data": {
      "text/plain": [
       "count        33.000000\n",
       "mean     503412.424242\n",
       "std      294183.676162\n",
       "min       17529.000000\n",
       "25%      189201.000000\n",
       "50%      517340.000000\n",
       "75%      730689.000000\n",
       "max      980283.000000\n",
       "Name: Amount, dtype: float64"
      ]
     },
     "execution_count": 47,
     "metadata": {},
     "output_type": "execute_result"
    }
   ],
   "source": [
    "restart['Amount'].describe()"
   ]
  },
  {
   "cell_type": "code",
   "execution_count": 48,
   "metadata": {},
   "outputs": [
    {
     "data": {
      "text/plain": [
       "count        16.000000\n",
       "mean      75155.500000\n",
       "std       93610.918355\n",
       "min        5000.000000\n",
       "25%       11546.750000\n",
       "50%       47958.500000\n",
       "75%       61330.000000\n",
       "max      300000.000000\n",
       "Name: Amount, dtype: float64"
      ]
     },
     "execution_count": 48,
     "metadata": {},
     "output_type": "execute_result"
    }
   ],
   "source": [
    "closure['Amount'].describe()"
   ]
  },
  {
   "cell_type": "code",
   "execution_count": 49,
   "metadata": {},
   "outputs": [
    {
     "data": {
      "text/html": [
       "<script type=\"text/javascript\">window.PlotlyConfig = {MathJaxConfig: 'local'};</script><script type=\"text/javascript\">if (window.MathJax) {MathJax.Hub.Config({SVG: {font: \"STIX-Web\"}});}</script><script>requirejs.config({paths: { 'plotly': ['https://cdn.plot.ly/plotly-latest.min']},});if(!window._Plotly) {require(['plotly'],function(plotly) {window._Plotly=plotly;});}</script>"
      ],
      "text/vnd.plotly.v1+html": [
       "<script type=\"text/javascript\">window.PlotlyConfig = {MathJaxConfig: 'local'};</script><script type=\"text/javascript\">if (window.MathJax) {MathJax.Hub.Config({SVG: {font: \"STIX-Web\"}});}</script><script>requirejs.config({paths: { 'plotly': ['https://cdn.plot.ly/plotly-latest.min']},});if(!window._Plotly) {require(['plotly'],function(plotly) {window._Plotly=plotly;});}</script>"
      ]
     },
     "metadata": {},
     "output_type": "display_data"
    }
   ],
   "source": [
    "# Plotting the data using Plotly\n",
    "from plotly.offline import download_plotlyjs, init_notebook_mode, plot, iplot\n",
    "import plotly.graph_objs as go\n",
    "import plotly.plotly as py\n",
    "init_notebook_mode(connected=True)"
   ]
  },
  {
   "cell_type": "code",
   "execution_count": 50,
   "metadata": {},
   "outputs": [],
   "source": [
    "group_model = file.groupby('Model Selected')\n",
    "model_counts = group_model.size()"
   ]
  },
  {
   "cell_type": "code",
   "execution_count": 51,
   "metadata": {},
   "outputs": [
    {
     "data": {
      "application/vnd.plotly.v1+json": {
       "config": {
        "linkText": "Export to plot.ly",
        "plotlyServerURL": "https://plot.ly",
        "showLink": false
       },
       "data": [
        {
         "type": "bar",
         "uid": "22069383-419f-4c91-8d0a-165d170ce6bd",
         "x": [
          "Closure",
          "Restart",
          "Transformation",
          "Turnaround"
         ],
         "y": [
          16,
          33,
          608,
          168
         ]
        }
       ],
       "layout": {
        "autosize": true,
        "title": {
         "text": "Number of Schools per Funding Type"
        },
        "xaxis": {
         "autorange": true,
         "range": [
          -0.5,
          3.5
         ],
         "title": {
          "text": "Funding Type"
         },
         "type": "category"
        },
        "yaxis": {
         "autorange": true,
         "range": [
          0,
          640
         ],
         "title": {
          "text": "Count"
         },
         "type": "linear"
        }
       }
      },
      "image/png": "[encoded data removed]",
      "text/html": [
       "<div id=\"10f1495d-66dc-4506-8178-8a3846175600\" style=\"height: 525px; width: 100%;\" class=\"plotly-graph-div\"></div><script type=\"text/javascript\">require([\"plotly\"], function(Plotly) { window.PLOTLYENV=window.PLOTLYENV || {};window.PLOTLYENV.BASE_URL=\"https://plot.ly\";\n",
       "if (document.getElementById(\"10f1495d-66dc-4506-8178-8a3846175600\")) {\n",
       "    Plotly.newPlot(\"10f1495d-66dc-4506-8178-8a3846175600\", [{\"x\": [\"Closure\", \"Restart\", \"Transformation\", \"Turnaround\"], \"y\": [16, 33, 608, 168], \"type\": \"bar\", \"uid\": \"22069383-419f-4c91-8d0a-165d170ce6bd\"}], {\"title\": {\"text\": \"Number of Schools per Funding Type\"}, \"xaxis\": {\"title\": {\"text\": \"Funding Type\"}}, \"yaxis\": {\"title\": {\"text\": \"Count\"}}}, {\"showLink\": false, \"linkText\": \"Export to plot.ly\", \"plotlyServerURL\": \"https://plot.ly\"}); \n",
       "}\n",
       "});</script><script type=\"text/javascript\">window.addEventListener(\"resize\", function(){if (document.getElementById(\"10f1495d-66dc-4506-8178-8a3846175600\")) {window._Plotly.Plots.resize(document.getElementById(\"10f1495d-66dc-4506-8178-8a3846175600\"));};})</script>"
      ],
      "text/vnd.plotly.v1+html": [
       "<div id=\"10f1495d-66dc-4506-8178-8a3846175600\" style=\"height: 525px; width: 100%;\" class=\"plotly-graph-div\"></div><script type=\"text/javascript\">require([\"plotly\"], function(Plotly) { window.PLOTLYENV=window.PLOTLYENV || {};window.PLOTLYENV.BASE_URL=\"https://plot.ly\";\n",
       "if (document.getElementById(\"10f1495d-66dc-4506-8178-8a3846175600\")) {\n",
       "    Plotly.newPlot(\"10f1495d-66dc-4506-8178-8a3846175600\", [{\"x\": [\"Closure\", \"Restart\", \"Transformation\", \"Turnaround\"], \"y\": [16, 33, 608, 168], \"type\": \"bar\", \"uid\": \"22069383-419f-4c91-8d0a-165d170ce6bd\"}], {\"title\": {\"text\": \"Number of Schools per Funding Type\"}, \"xaxis\": {\"title\": {\"text\": \"Funding Type\"}}, \"yaxis\": {\"title\": {\"text\": \"Count\"}}}, {\"showLink\": false, \"linkText\": \"Export to plot.ly\", \"plotlyServerURL\": \"https://plot.ly\"}); \n",
       "}\n",
       "});</script><script type=\"text/javascript\">window.addEventListener(\"resize\", function(){if (document.getElementById(\"10f1495d-66dc-4506-8178-8a3846175600\")) {window._Plotly.Plots.resize(document.getElementById(\"10f1495d-66dc-4506-8178-8a3846175600\"));};})</script>"
      ]
     },
     "metadata": {},
     "output_type": "display_data"
    }
   ],
   "source": [
    "iplot(\n",
    "    go.Figure(\n",
    "        data = [\n",
    "            go.Bar(x= model_counts.index, y = model_counts),\n",
    "        ],\n",
    "    \n",
    "        layout = go.Layout(\n",
    "            title = \"Number of Schools per Funding Type\",\n",
    "            xaxis = dict(title=\"Funding Type\"),\n",
    "            yaxis = dict(title=\"Count\")\n",
    "        )\n",
    "))"
   ]
  },
  {
   "cell_type": "code",
   "execution_count": 52,
   "metadata": {},
   "outputs": [
    {
     "data": {
      "text/html": [
       "<iframe id=\"igraph\" scrolling=\"no\" style=\"border:none;\" seamless=\"seamless\" src=\"https://plot.ly/~adi00014/42.embed\" height=\"525px\" width=\"100%\"></iframe>"
      ],
      "text/plain": [
       "<plotly.tools.PlotlyDisplay object>"
      ]
     },
     "execution_count": 52,
     "metadata": {},
     "output_type": "execute_result"
    }
   ],
   "source": [
    "y0 = transformation['Amount']\n",
    "y1 = turnaround['Amount']\n",
    "y2 = restart['Amount']\n",
    "y3 = closure['Amount']\n",
    "\n",
    "transformation_plot = go.Box(\n",
    "    y = y0,\n",
    "    name = \"Transformation\"\n",
    ")\n",
    "\n",
    "turnaround_plot = go.Box(\n",
    "    y = y1,\n",
    "    name = \"Turnaround\"\n",
    ")\n",
    "\n",
    "restart_plot = go.Box(\n",
    "    y = y2,\n",
    "    name = \"Restart\"\n",
    ")\n",
    "\n",
    "closure_plot = go.Box(\n",
    "    y = y3,\n",
    "    name = \"Closure\"\n",
    ")\n",
    "\n",
    "data = [transformation_plot, turnaround_plot, restart_plot, closure_plot]\n",
    "\n",
    "layout = go.Layout(\n",
    "    title=\"Box Plot of Different Funding Types\",\n",
    "    xaxis=dict(title=\"Funding Type\"),\n",
    "    yaxis=dict(title=\"Funding Amount ($)\")\n",
    ")\n",
    "\n",
    "fig = go.Figure(data=data, layout=layout)\n",
    "\n",
    "py.iplot(fig)"
   ]
  },
  {
   "cell_type": "code",
   "execution_count": 54,
   "metadata": {},
   "outputs": [],
   "source": [
    "# Analyzing the breakdown of funding ranges\n",
    "range_labels = pd.Series(data=['<$1k', '$1-10k', '$10-50k', '$50-100k', '$100-250k', '$250-500k', '>$500k'])"
   ]
  },
  {
   "cell_type": "code",
   "execution_count": 55,
   "metadata": {},
   "outputs": [],
   "source": [
    "df = file.drop(columns=['City', 'Location'])\n",
    "df['Range'] = ''\n",
    "\n",
    "pd.options.mode.chained_assignment = None\n",
    "\n",
    "for index, row in df.iterrows():\n",
    "    if (row['Amount'] < 1000):\n",
    "        df['Range'][index] = range_labels[0]\n",
    "    elif ((row['Amount'] >= 1000) & (row['Amount'] < 10000)):\n",
    "        df['Range'][index] = range_labels[1]\n",
    "    elif ((row['Amount'] >= 10000) & (row['Amount'] < 50000)):\n",
    "        df['Range'][index] = range_labels[2]\n",
    "    elif ((row['Amount'] >= 50000) & (row['Amount'] < 100000)):\n",
    "        df['Range'][index] = range_labels[3]\n",
    "    elif ((row['Amount'] >= 100000) & (row['Amount'] < 250000)):\n",
    "        df['Range'][index] = range_labels[4]\n",
    "    elif ((row['Amount'] >= 250000) & (row['Amount'] < 500000)):\n",
    "        df['Range'][index] = range_labels[5]\n",
    "    elif (row['Amount'] >= 500000):\n",
    "        df['Range'][index] = range_labels[6]\n",
    "    else:\n",
    "        df['Range'][index] = \"N/A\""
   ]
  },
  {
   "cell_type": "code",
   "execution_count": 56,
   "metadata": {},
   "outputs": [],
   "source": [
    "group_range = df.groupby('Range')\n",
    "range_counts = group_range.size()"
   ]
  },
  {
   "cell_type": "code",
   "execution_count": 57,
   "metadata": {},
   "outputs": [],
   "source": [
    "transformation2 = df.loc[df['Model Selected'] == 'Transformation']\n",
    "restart2 = df.loc[df['Model Selected'] == 'Restart']\n",
    "turnaround2 = df.loc[df['Model Selected'] == 'Turnaround']\n",
    "closure2 = df.loc[df['Model Selected'] == 'Closure']"
   ]
  },
  {
   "cell_type": "code",
   "execution_count": 58,
   "metadata": {},
   "outputs": [
    {
     "data": {
      "application/vnd.plotly.v1+json": {
       "config": {
        "linkText": "Export to plot.ly",
        "plotlyServerURL": "https://plot.ly",
        "showLink": false
       },
       "data": [
        {
         "name": "Transformation",
         "type": "bar",
         "uid": "abf9e438-2965-4a05-96a1-c4106b8fa02d",
         "x": [
          "$1-10k",
          "$10-50k",
          "$100-250k",
          "$250-500k",
          "$50-100k",
          "<$1k",
          ">$500k",
          "N/A"
         ],
         "y": [
          10,
          15,
          137,
          109,
          null,
          29,
          243,
          65
         ]
        },
        {
         "name": "Restart",
         "type": "bar",
         "uid": "2da62762-19a5-451c-9003-b76cf55a18a1",
         "x": [
          "$1-10k",
          "$10-50k",
          "$100-250k",
          "$250-500k",
          "$50-100k",
          "<$1k",
          ">$500k",
          "N/A"
         ],
         "y": [
          null,
          1,
          9,
          5,
          null,
          null,
          18,
          null
         ]
        },
        {
         "name": "Turnaround",
         "type": "bar",
         "uid": "9d2c9322-732b-4d8d-88b2-ba58f8b16923",
         "x": [
          "$1-10k",
          "$10-50k",
          "$100-250k",
          "$250-500k",
          "$50-100k",
          "<$1k",
          ">$500k",
          "N/A"
         ],
         "y": [
          null,
          3,
          67,
          30,
          null,
          4,
          61,
          3
         ]
        },
        {
         "name": "Closure",
         "type": "bar",
         "uid": "b7d7cfb9-4692-41e5-9a9d-450aa80b5176",
         "x": [
          "$1-10k",
          "$10-50k",
          "$100-250k",
          "$250-500k",
          "$50-100k",
          "<$1k",
          ">$500k",
          "N/A"
         ],
         "y": [
          4,
          5,
          1,
          2,
          4,
          null,
          null,
          null
         ]
        }
       ],
       "layout": {
        "autosize": true,
        "barmode": "stack",
        "title": {
         "text": "Number of Schools by Funding Range and Type"
        },
        "xaxis": {
         "autorange": true,
         "range": [
          -0.5,
          7.5
         ],
         "title": {
          "text": "Funding Range"
         },
         "type": "category"
        },
        "yaxis": {
         "autorange": true,
         "range": [
          0,
          338.9473684210526
         ],
         "title": {
          "text": "Count"
         },
         "type": "linear"
        }
       }
      },
      "image/png": "[encoded data removed]",
      "text/html": [
       "<div id=\"52d37211-498a-4d85-9f87-d7bdcd8aeb0a\" style=\"height: 525px; width: 100%;\" class=\"plotly-graph-div\"></div><script type=\"text/javascript\">require([\"plotly\"], function(Plotly) { window.PLOTLYENV=window.PLOTLYENV || {};window.PLOTLYENV.BASE_URL=\"https://plot.ly\";\n",
       "if (document.getElementById(\"52d37211-498a-4d85-9f87-d7bdcd8aeb0a\")) {\n",
       "    Plotly.newPlot(\"52d37211-498a-4d85-9f87-d7bdcd8aeb0a\", [{\"name\": \"Transformation\", \"x\": [\"$1-10k\", \"$10-50k\", \"$100-250k\", \"$250-500k\", \"$50-100k\", \"<$1k\", \">$500k\", \"N/A\"], \"y\": [10.0, 15.0, 137.0, 109.0, null, 29.0, 243.0, 65.0], \"type\": \"bar\", \"uid\": \"abf9e438-2965-4a05-96a1-c4106b8fa02d\"}, {\"name\": \"Restart\", \"x\": [\"$1-10k\", \"$10-50k\", \"$100-250k\", \"$250-500k\", \"$50-100k\", \"<$1k\", \">$500k\", \"N/A\"], \"y\": [null, 1.0, 9.0, 5.0, null, null, 18.0, null], \"type\": \"bar\", \"uid\": \"2da62762-19a5-451c-9003-b76cf55a18a1\"}, {\"name\": \"Turnaround\", \"x\": [\"$1-10k\", \"$10-50k\", \"$100-250k\", \"$250-500k\", \"$50-100k\", \"<$1k\", \">$500k\", \"N/A\"], \"y\": [null, 3.0, 67.0, 30.0, null, 4.0, 61.0, 3.0], \"type\": \"bar\", \"uid\": \"9d2c9322-732b-4d8d-88b2-ba58f8b16923\"}, {\"name\": \"Closure\", \"x\": [\"$1-10k\", \"$10-50k\", \"$100-250k\", \"$250-500k\", \"$50-100k\", \"<$1k\", \">$500k\", \"N/A\"], \"y\": [4.0, 5.0, 1.0, 2.0, 4.0, null, null, null], \"type\": \"bar\", \"uid\": \"b7d7cfb9-4692-41e5-9a9d-450aa80b5176\"}], {\"barmode\": \"stack\", \"title\": {\"text\": \"Number of Schools by Funding Range and Type\"}, \"xaxis\": {\"title\": {\"text\": \"Funding Range\"}}, \"yaxis\": {\"title\": {\"text\": \"Count\"}}}, {\"showLink\": false, \"linkText\": \"Export to plot.ly\", \"plotlyServerURL\": \"https://plot.ly\"}); \n",
       "}\n",
       "});</script><script type=\"text/javascript\">window.addEventListener(\"resize\", function(){if (document.getElementById(\"52d37211-498a-4d85-9f87-d7bdcd8aeb0a\")) {window._Plotly.Plots.resize(document.getElementById(\"52d37211-498a-4d85-9f87-d7bdcd8aeb0a\"));};})</script>"
      ],
      "text/vnd.plotly.v1+html": [
       "<div id=\"52d37211-498a-4d85-9f87-d7bdcd8aeb0a\" style=\"height: 525px; width: 100%;\" class=\"plotly-graph-div\"></div><script type=\"text/javascript\">require([\"plotly\"], function(Plotly) { window.PLOTLYENV=window.PLOTLYENV || {};window.PLOTLYENV.BASE_URL=\"https://plot.ly\";\n",
       "if (document.getElementById(\"52d37211-498a-4d85-9f87-d7bdcd8aeb0a\")) {\n",
       "    Plotly.newPlot(\"52d37211-498a-4d85-9f87-d7bdcd8aeb0a\", [{\"name\": \"Transformation\", \"x\": [\"$1-10k\", \"$10-50k\", \"$100-250k\", \"$250-500k\", \"$50-100k\", \"<$1k\", \">$500k\", \"N/A\"], \"y\": [10.0, 15.0, 137.0, 109.0, null, 29.0, 243.0, 65.0], \"type\": \"bar\", \"uid\": \"abf9e438-2965-4a05-96a1-c4106b8fa02d\"}, {\"name\": \"Restart\", \"x\": [\"$1-10k\", \"$10-50k\", \"$100-250k\", \"$250-500k\", \"$50-100k\", \"<$1k\", \">$500k\", \"N/A\"], \"y\": [null, 1.0, 9.0, 5.0, null, null, 18.0, null], \"type\": \"bar\", \"uid\": \"2da62762-19a5-451c-9003-b76cf55a18a1\"}, {\"name\": \"Turnaround\", \"x\": [\"$1-10k\", \"$10-50k\", \"$100-250k\", \"$250-500k\", \"$50-100k\", \"<$1k\", \">$500k\", \"N/A\"], \"y\": [null, 3.0, 67.0, 30.0, null, 4.0, 61.0, 3.0], \"type\": \"bar\", \"uid\": \"9d2c9322-732b-4d8d-88b2-ba58f8b16923\"}, {\"name\": \"Closure\", \"x\": [\"$1-10k\", \"$10-50k\", \"$100-250k\", \"$250-500k\", \"$50-100k\", \"<$1k\", \">$500k\", \"N/A\"], \"y\": [4.0, 5.0, 1.0, 2.0, 4.0, null, null, null], \"type\": \"bar\", \"uid\": \"b7d7cfb9-4692-41e5-9a9d-450aa80b5176\"}], {\"barmode\": \"stack\", \"title\": {\"text\": \"Number of Schools by Funding Range and Type\"}, \"xaxis\": {\"title\": {\"text\": \"Funding Range\"}}, \"yaxis\": {\"title\": {\"text\": \"Count\"}}}, {\"showLink\": false, \"linkText\": \"Export to plot.ly\", \"plotlyServerURL\": \"https://plot.ly\"}); \n",
       "}\n",
       "});</script><script type=\"text/javascript\">window.addEventListener(\"resize\", function(){if (document.getElementById(\"52d37211-498a-4d85-9f87-d7bdcd8aeb0a\")) {window._Plotly.Plots.resize(document.getElementById(\"52d37211-498a-4d85-9f87-d7bdcd8aeb0a\"));};})</script>"
      ]
     },
     "metadata": {},
     "output_type": "display_data"
    }
   ],
   "source": [
    "iplot(\n",
    "    go.Figure(\n",
    "        data = [\n",
    "            go.Bar(x = range_counts.index, y = transformation2['Range'].value_counts()[range_counts.index], name = \"Transformation\"),\n",
    "            go.Bar(x = range_counts.index, y = restart2['Range'].value_counts()[range_counts.index], name = \"Restart\"),\n",
    "            go.Bar(x = range_counts.index, y = turnaround2['Range'].value_counts()[range_counts.index], name = \"Turnaround\"),\n",
    "            go.Bar(x = range_counts.index, y = closure2['Range'].value_counts()[range_counts.index], name = \"Closure\"),\n",
    "        ],\n",
    "    \n",
    "        layout = go.Layout(\n",
    "            barmode='stack',\n",
    "            title = \"Number of Schools by Funding Range and Type\",\n",
    "            xaxis = dict(title=\"Funding Range\"),\n",
    "            yaxis = dict(title=\"Count\")\n",
    "        )\n",
    "))"
   ]
  },
  {
   "cell_type": "code",
   "execution_count": 59,
   "metadata": {},
   "outputs": [],
   "source": [
    "# Funding breakdown by state\n",
    "\n",
    "group_state = df.groupby('State')\n",
    "state_counts = group_state.size()\n",
    "state_funds = df.groupby('State')['Amount'].sum()"
   ]
  },
  {
   "cell_type": "code",
   "execution_count": 60,
   "metadata": {},
   "outputs": [],
   "source": [
    "state_breakdown = pd.DataFrame(columns=['State','Count','Total Funding'])\n",
    "state_breakdown['State'] = state_counts.index\n",
    "state_breakdown['Count'] = state_counts.values\n",
    "state_breakdown['Total Funding'] = state_funds.values\n",
    "state_breakdown['Average'] = round(state_breakdown['Total Funding']/state_breakdown['Count'],2)\n",
    "state_table = state_breakdown.sort_values(by=['Average'], ascending=False)"
   ]
  },
  {
   "cell_type": "code",
   "execution_count": 61,
   "metadata": {},
   "outputs": [
    {
     "data": {
      "application/vnd.plotly.v1+json": {
       "config": {
        "linkText": "Export to plot.ly",
        "plotlyServerURL": "https://plot.ly",
        "showLink": false
       },
       "data": [
        {
         "cells": {
          "values": [
           [
            "AZ",
            "DE",
            "MA",
            "MN",
            "FL",
            "UT",
            "SC",
            "NE",
            "CT",
            "NC",
            "AR",
            "MD",
            "CO",
            "AK",
            "KY",
            "NV",
            "PA",
            "OR",
            "VA",
            "OH",
            "DC",
            "ND",
            "TN",
            "MO",
            "MI",
            "NH",
            "WA",
            "GA",
            "WY",
            "WV",
            "MT",
            "IN",
            "WI",
            "OK",
            "VT",
            "NY",
            "CA",
            "IL",
            "KS",
            "AL",
            "NJ",
            "SD",
            "MS",
            "NM",
            "IA",
            "ID",
            "TX",
            "RI",
            "LA",
            "ME"
           ],
           [
            19,
            2,
            12,
            19,
            71,
            7,
            19,
            7,
            14,
            24,
            7,
            11,
            19,
            7,
            10,
            10,
            58,
            12,
            18,
            35,
            10,
            1,
            12,
            32,
            28,
            7,
            18,
            26,
            3,
            15,
            6,
            7,
            11,
            10,
            10,
            25,
            92,
            10,
            6,
            11,
            12,
            3,
            8,
            13,
            6,
            6,
            48,
            6,
            2,
            6
           ],
           [
            13181345,
            1303216,
            7441266,
            11633397,
            43138859,
            4251625,
            11272707,
            4078079,
            8041137,
            13527138,
            3936109,
            6033577,
            10158232,
            3607416,
            5025938,
            4991568,
            28318207,
            5792028,
            8008990,
            15266786,
            4199339,
            418574,
            4997708,
            13215147,
            10893630,
            2661604,
            6569211,
            8892929,
            1002682,
            4961093,
            1961690,
            2191767,
            3176096,
            2770485,
            2750483,
            5668851,
            20286824,
            2197110,
            1270660,
            2300782,
            2158303,
            530890,
            1250153,
            1975170,
            761235,
            496680,
            0,
            0,
            0,
            0
           ],
           [
            693755,
            651608,
            620105.5,
            612284.05,
            607589.56,
            607375,
            593300.37,
            582582.71,
            574366.93,
            563630.75,
            562301.29,
            548507,
            534643.79,
            515345.14,
            502593.8,
            499156.8,
            488244.95,
            482669,
            444943.89,
            436193.89,
            419933.9,
            418574,
            416475.67,
            412973.34,
            389058.21,
            380229.14,
            364956.17,
            342035.73,
            334227.33,
            330739.53,
            326948.33,
            313109.57,
            288736,
            277048.5,
            275048.3,
            226754.04,
            220508.96,
            219711,
            211776.67,
            209162,
            179858.58,
            176963.33,
            156269.12,
            151936.15,
            126872.5,
            82780,
            0,
            0,
            0,
            0
           ]
          ]
         },
         "header": {
          "values": [
           "State",
           "School Count",
           "Total ($)",
           "Average ($)"
          ]
         },
         "type": "table",
         "uid": "b8033440-4f02-433d-bdc9-7a9efb15940b"
        }
       ],
       "layout": {
        "autosize": true,
        "title": {
         "text": "Top states by funding (average)"
        }
       }
      },
      "image/png": "[encoded data removed]",
      "text/html": [
       "<div id=\"8718d3a3-6731-4bd8-beeb-646779000024\" style=\"height: 525px; width: 100%;\" class=\"plotly-graph-div\"></div><script type=\"text/javascript\">require([\"plotly\"], function(Plotly) { window.PLOTLYENV=window.PLOTLYENV || {};window.PLOTLYENV.BASE_URL=\"https://plot.ly\";\n",
       "if (document.getElementById(\"8718d3a3-6731-4bd8-beeb-646779000024\")) {\n",
       "    Plotly.newPlot(\"8718d3a3-6731-4bd8-beeb-646779000024\", [{\"cells\": {\"values\": [[\"AZ\", \"DE\", \"MA\", \"MN\", \"FL\", \"UT\", \"SC\", \"NE\", \"CT\", \"NC\", \"AR\", \"MD\", \"CO\", \"AK\", \"KY\", \"NV\", \"PA\", \"OR\", \"VA\", \"OH\", \"DC\", \"ND\", \"TN\", \"MO\", \"MI\", \"NH\", \"WA\", \"GA\", \"WY\", \"WV\", \"MT\", \"IN\", \"WI\", \"OK\", \"VT\", \"NY\", \"CA\", \"IL\", \"KS\", \"AL\", \"NJ\", \"SD\", \"MS\", \"NM\", \"IA\", \"ID\", \"TX\", \"RI\", \"LA\", \"ME\"], [19, 2, 12, 19, 71, 7, 19, 7, 14, 24, 7, 11, 19, 7, 10, 10, 58, 12, 18, 35, 10, 1, 12, 32, 28, 7, 18, 26, 3, 15, 6, 7, 11, 10, 10, 25, 92, 10, 6, 11, 12, 3, 8, 13, 6, 6, 48, 6, 2, 6], [13181345.0, 1303216.0, 7441266.0, 11633397.0, 43138859.0, 4251625.0, 11272707.0, 4078079.0, 8041137.0, 13527138.0, 3936109.0, 6033577.0, 10158232.0, 3607416.0, 5025938.0, 4991568.0, 28318207.0, 5792028.0, 8008990.0, 15266786.0, 4199339.0, 418574.0, 4997708.0, 13215147.0, 10893630.0, 2661604.0, 6569211.0, 8892929.0, 1002682.0, 4961093.0, 1961690.0, 2191767.0, 3176096.0, 2770485.0, 2750483.0, 5668851.0, 20286824.0, 2197110.0, 1270660.0, 2300782.0, 2158303.0, 530890.0, 1250153.0, 1975170.0, 761235.0, 496680.0, 0.0, 0.0, 0.0, 0.0], [693755.0, 651608.0, 620105.5, 612284.05, 607589.56, 607375.0, 593300.37, 582582.71, 574366.93, 563630.75, 562301.29, 548507.0, 534643.79, 515345.14, 502593.8, 499156.8, 488244.95, 482669.0, 444943.89, 436193.89, 419933.9, 418574.0, 416475.67, 412973.34, 389058.21, 380229.14, 364956.17, 342035.73, 334227.33, 330739.53, 326948.33, 313109.57, 288736.0, 277048.5, 275048.3, 226754.04, 220508.96, 219711.0, 211776.67, 209162.0, 179858.58, 176963.33, 156269.12, 151936.15, 126872.5, 82780.0, 0.0, 0.0, 0.0, 0.0]]}, \"header\": {\"values\": [\"State\", \"School Count\", \"Total ($)\", \"Average ($)\"]}, \"type\": \"table\", \"uid\": \"b8033440-4f02-433d-bdc9-7a9efb15940b\"}], {\"title\": {\"text\": \"Top states by funding (average)\"}}, {\"showLink\": false, \"linkText\": \"Export to plot.ly\", \"plotlyServerURL\": \"https://plot.ly\"}); \n",
       "}\n",
       "});</script><script type=\"text/javascript\">window.addEventListener(\"resize\", function(){if (document.getElementById(\"8718d3a3-6731-4bd8-beeb-646779000024\")) {window._Plotly.Plots.resize(document.getElementById(\"8718d3a3-6731-4bd8-beeb-646779000024\"));};})</script>"
      ],
      "text/vnd.plotly.v1+html": [
       "<div id=\"8718d3a3-6731-4bd8-beeb-646779000024\" style=\"height: 525px; width: 100%;\" class=\"plotly-graph-div\"></div><script type=\"text/javascript\">require([\"plotly\"], function(Plotly) { window.PLOTLYENV=window.PLOTLYENV || {};window.PLOTLYENV.BASE_URL=\"https://plot.ly\";\n",
       "if (document.getElementById(\"8718d3a3-6731-4bd8-beeb-646779000024\")) {\n",
       "    Plotly.newPlot(\"8718d3a3-6731-4bd8-beeb-646779000024\", [{\"cells\": {\"values\": [[\"AZ\", \"DE\", \"MA\", \"MN\", \"FL\", \"UT\", \"SC\", \"NE\", \"CT\", \"NC\", \"AR\", \"MD\", \"CO\", \"AK\", \"KY\", \"NV\", \"PA\", \"OR\", \"VA\", \"OH\", \"DC\", \"ND\", \"TN\", \"MO\", \"MI\", \"NH\", \"WA\", \"GA\", \"WY\", \"WV\", \"MT\", \"IN\", \"WI\", \"OK\", \"VT\", \"NY\", \"CA\", \"IL\", \"KS\", \"AL\", \"NJ\", \"SD\", \"MS\", \"NM\", \"IA\", \"ID\", \"TX\", \"RI\", \"LA\", \"ME\"], [19, 2, 12, 19, 71, 7, 19, 7, 14, 24, 7, 11, 19, 7, 10, 10, 58, 12, 18, 35, 10, 1, 12, 32, 28, 7, 18, 26, 3, 15, 6, 7, 11, 10, 10, 25, 92, 10, 6, 11, 12, 3, 8, 13, 6, 6, 48, 6, 2, 6], [13181345.0, 1303216.0, 7441266.0, 11633397.0, 43138859.0, 4251625.0, 11272707.0, 4078079.0, 8041137.0, 13527138.0, 3936109.0, 6033577.0, 10158232.0, 3607416.0, 5025938.0, 4991568.0, 28318207.0, 5792028.0, 8008990.0, 15266786.0, 4199339.0, 418574.0, 4997708.0, 13215147.0, 10893630.0, 2661604.0, 6569211.0, 8892929.0, 1002682.0, 4961093.0, 1961690.0, 2191767.0, 3176096.0, 2770485.0, 2750483.0, 5668851.0, 20286824.0, 2197110.0, 1270660.0, 2300782.0, 2158303.0, 530890.0, 1250153.0, 1975170.0, 761235.0, 496680.0, 0.0, 0.0, 0.0, 0.0], [693755.0, 651608.0, 620105.5, 612284.05, 607589.56, 607375.0, 593300.37, 582582.71, 574366.93, 563630.75, 562301.29, 548507.0, 534643.79, 515345.14, 502593.8, 499156.8, 488244.95, 482669.0, 444943.89, 436193.89, 419933.9, 418574.0, 416475.67, 412973.34, 389058.21, 380229.14, 364956.17, 342035.73, 334227.33, 330739.53, 326948.33, 313109.57, 288736.0, 277048.5, 275048.3, 226754.04, 220508.96, 219711.0, 211776.67, 209162.0, 179858.58, 176963.33, 156269.12, 151936.15, 126872.5, 82780.0, 0.0, 0.0, 0.0, 0.0]]}, \"header\": {\"values\": [\"State\", \"School Count\", \"Total ($)\", \"Average ($)\"]}, \"type\": \"table\", \"uid\": \"b8033440-4f02-433d-bdc9-7a9efb15940b\"}], {\"title\": {\"text\": \"Top states by funding (average)\"}}, {\"showLink\": false, \"linkText\": \"Export to plot.ly\", \"plotlyServerURL\": \"https://plot.ly\"}); \n",
       "}\n",
       "});</script><script type=\"text/javascript\">window.addEventListener(\"resize\", function(){if (document.getElementById(\"8718d3a3-6731-4bd8-beeb-646779000024\")) {window._Plotly.Plots.resize(document.getElementById(\"8718d3a3-6731-4bd8-beeb-646779000024\"));};})</script>"
      ]
     },
     "metadata": {},
     "output_type": "display_data"
    }
   ],
   "source": [
    "iplot(\n",
    "    go.Figure(\n",
    "        data = [\n",
    "            go.Table(\n",
    "                header = dict(values=[\"State\", \"School Count\", \"Total ($)\", \"Average ($)\"]),\n",
    "                cells = dict(values=[state_table['State'],state_table['Count'],state_table['Total Funding'],state_table['Average']])\n",
    "            )\n",
    "        ],\n",
    "        layout = go.Layout(title = \"Top states by funding (average)\")\n",
    "    )\n",
    ")"
   ]
  },
  {
   "cell_type": "code",
   "execution_count": null,
   "metadata": {},
   "outputs": [],
   "source": []
  }
 ],
 "metadata": {
  "kernelspec": {
   "display_name": "Python 3",
   "language": "python",
   "name": "python3"
  },
  "language_info": {
   "codemirror_mode": {
    "name": "ipython",
    "version": 3
   },
   "file_extension": ".py",
   "mimetype": "text/x-python",
   "name": "python",
   "nbconvert_exporter": "python",
   "pygments_lexer": "ipython3",
   "version": "3.6.8"
  }
 },
 "nbformat": 4,
 "nbformat_minor": 2
}
